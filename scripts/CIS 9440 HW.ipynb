{
 "cells": [
  {
   "cell_type": "code",
   "execution_count": 4,
   "id": "0b112d88",
   "metadata": {
    "scrolled": true
   },
   "outputs": [
    {
     "name": "stdout",
     "output_type": "stream",
     "text": [
      "Requirement already satisfied: requests in c:\\users\\mario\\anaconda3\\lib\\site-packages (2.31.0)\n",
      "Requirement already satisfied: charset-normalizer<4,>=2 in c:\\users\\mario\\anaconda3\\lib\\site-packages (from requests) (2.0.4)\n",
      "Requirement already satisfied: idna<4,>=2.5 in c:\\users\\mario\\anaconda3\\lib\\site-packages (from requests) (3.4)\n",
      "Requirement already satisfied: urllib3<3,>=1.21.1 in c:\\users\\mario\\anaconda3\\lib\\site-packages (from requests) (1.26.16)\n",
      "Requirement already satisfied: certifi>=2017.4.17 in c:\\users\\mario\\anaconda3\\lib\\site-packages (from requests) (2023.7.22)\n",
      "Note: you may need to restart the kernel to use updated packages.\n"
     ]
    }
   ],
   "source": [
    "pip install requests\n"
   ]
  },
  {
   "cell_type": "code",
   "execution_count": 25,
   "id": "ba13b427",
   "metadata": {},
   "outputs": [
    {
     "name": "stdout",
     "output_type": "stream",
     "text": [
      "Data saved to nypd_shooting.csv\n"
     ]
    }
   ],
   "source": [
    "import requests\n",
    "import pandas as pd\n",
    "\n",
    "def fetch_data(url, offset=0, limit=2000):\n",
    "    \"\"\"\n",
    "    Fetch data from the specified URL of a Web API with pagination.\n",
    "    Handles basic error checking and prints the status of the request.\n",
    "    \"\"\"\n",
    "    try:\n",
    "        # Properly append query parameters for pagination\n",
    "        params = {'$offset': offset, '$limit': limit}\n",
    "        response = requests.get(url, params=params)\n",
    "        response.raise_for_status()  # Raises an HTTPError for bad requests (4XX or 5XX)\n",
    "        return response.json()  # Converts the JSON response to a Python dictionary\n",
    "    except requests.RequestException as e:\n",
    "        print(f\"An error occurred: {e}\")\n",
    "        return None\n",
    "\n",
    "def save_data_to_csv(data, filename):\n",
    "    \"\"\"\n",
    "    Converts a list of dictionaries (JSON data) to a Pandas DataFrame and saves it as a CSV file.\n",
    "    \"\"\"\n",
    "    try:\n",
    "        df = pd.DataFrame(data)\n",
    "        df.to_csv(filename, index=False)\n",
    "        print(f\"Data saved to {filename}\")\n",
    "    except Exception as e:\n",
    "        print(f\"Failed to save data to CSV: {e}\")\n",
    "\n",
    "def main():\n",
    "    api_url = \"https://data.cityofnewyork.us/resource/833y-fsy8.json\"\n",
    "    total_data = []\n",
    "    offset = 0\n",
    "    limit = 2000  # Adjust limit as necessary\n",
    "\n",
    "    # Example of handling pagination\n",
    "    while True:\n",
    "        data = fetch_data(api_url, offset, limit)\n",
    "        if data:\n",
    "            total_data.extend(data)\n",
    "            offset += limit  # Increment offset for next batch of data\n",
    "        else:\n",
    "            break  # Break if no more data is returned\n",
    "\n",
    "    if total_data:\n",
    "        # Save all data to CSV file\n",
    "        save_data_to_csv(total_data, 'nypd_shooting.csv')\n",
    "\n",
    "if __name__ == \"__main__\":\n",
    "    main()\n"
   ]
  },
  {
   "cell_type": "code",
   "execution_count": null,
   "id": "fde91418",
   "metadata": {},
   "outputs": [],
   "source": []
  },
  {
   "cell_type": "code",
   "execution_count": null,
   "id": "243655a5",
   "metadata": {},
   "outputs": [],
   "source": []
  },
  {
   "cell_type": "code",
   "execution_count": null,
   "id": "a38954ff",
   "metadata": {},
   "outputs": [],
   "source": []
  }
 ],
 "metadata": {
  "kernelspec": {
   "display_name": "Python 3 (ipykernel)",
   "language": "python",
   "name": "python3"
  },
  "language_info": {
   "codemirror_mode": {
    "name": "ipython",
    "version": 3
   },
   "file_extension": ".py",
   "mimetype": "text/x-python",
   "name": "python",
   "nbconvert_exporter": "python",
   "pygments_lexer": "ipython3",
   "version": "3.11.5"
  }
 },
 "nbformat": 4,
 "nbformat_minor": 5
}
