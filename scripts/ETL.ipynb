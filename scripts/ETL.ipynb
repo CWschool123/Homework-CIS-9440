{
 "cells": [
  {
   "cell_type": "code",
   "execution_count": 137,
   "id": "f44bb026",
   "metadata": {},
   "outputs": [
    {
     "name": "stdout",
     "output_type": "stream",
     "text": [
      "Requirement already satisfied: azure-storage-blob in c:\\users\\mario\\anaconda3\\lib\\site-packages (12.20.0)\n",
      "Requirement already satisfied: pandas in c:\\users\\mario\\anaconda3\\lib\\site-packages (2.0.3)\n",
      "Requirement already satisfied: numpy in c:\\users\\mario\\anaconda3\\lib\\site-packages (1.24.3)\n",
      "Requirement already satisfied: sqlalchemy in c:\\users\\mario\\anaconda3\\lib\\site-packages (1.4.39)\n",
      "Requirement already satisfied: azure-core>=1.28.0 in c:\\users\\mario\\anaconda3\\lib\\site-packages (from azure-storage-blob) (1.30.1)\n",
      "Requirement already satisfied: cryptography>=2.1.4 in c:\\users\\mario\\anaconda3\\lib\\site-packages (from azure-storage-blob) (41.0.3)\n",
      "Requirement already satisfied: typing-extensions>=4.6.0 in c:\\users\\mario\\anaconda3\\lib\\site-packages (from azure-storage-blob) (4.7.1)\n",
      "Requirement already satisfied: isodate>=0.6.1 in c:\\users\\mario\\anaconda3\\lib\\site-packages (from azure-storage-blob) (0.6.1)\n",
      "Requirement already satisfied: python-dateutil>=2.8.2 in c:\\users\\mario\\anaconda3\\lib\\site-packages (from pandas) (2.8.2)\n",
      "Requirement already satisfied: pytz>=2020.1 in c:\\users\\mario\\anaconda3\\lib\\site-packages (from pandas) (2023.3.post1)\n",
      "Requirement already satisfied: tzdata>=2022.1 in c:\\users\\mario\\anaconda3\\lib\\site-packages (from pandas) (2023.3)\n",
      "Requirement already satisfied: greenlet!=0.4.17 in c:\\users\\mario\\anaconda3\\lib\\site-packages (from sqlalchemy) (2.0.1)\n",
      "Requirement already satisfied: requests>=2.21.0 in c:\\users\\mario\\anaconda3\\lib\\site-packages (from azure-core>=1.28.0->azure-storage-blob) (2.31.0)\n",
      "Requirement already satisfied: six>=1.11.0 in c:\\users\\mario\\anaconda3\\lib\\site-packages (from azure-core>=1.28.0->azure-storage-blob) (1.16.0)\n",
      "Requirement already satisfied: cffi>=1.12 in c:\\users\\mario\\anaconda3\\lib\\site-packages (from cryptography>=2.1.4->azure-storage-blob) (1.15.1)\n",
      "Requirement already satisfied: pycparser in c:\\users\\mario\\anaconda3\\lib\\site-packages (from cffi>=1.12->cryptography>=2.1.4->azure-storage-blob) (2.21)\n",
      "Requirement already satisfied: charset-normalizer<4,>=2 in c:\\users\\mario\\anaconda3\\lib\\site-packages (from requests>=2.21.0->azure-core>=1.28.0->azure-storage-blob) (2.0.4)\n",
      "Requirement already satisfied: idna<4,>=2.5 in c:\\users\\mario\\anaconda3\\lib\\site-packages (from requests>=2.21.0->azure-core>=1.28.0->azure-storage-blob) (3.4)\n",
      "Requirement already satisfied: urllib3<3,>=1.21.1 in c:\\users\\mario\\anaconda3\\lib\\site-packages (from requests>=2.21.0->azure-core>=1.28.0->azure-storage-blob) (1.26.16)\n",
      "Requirement already satisfied: certifi>=2017.4.17 in c:\\users\\mario\\anaconda3\\lib\\site-packages (from requests>=2.21.0->azure-core>=1.28.0->azure-storage-blob) (2023.7.22)\n",
      "Note: you may need to restart the kernel to use updated packages.\n"
     ]
    }
   ],
   "source": [
    "pip install azure-storage-blob pandas numpy sqlalchemy "
   ]
  },
  {
   "cell_type": "code",
   "execution_count": 35,
   "id": "169b8e0a",
   "metadata": {},
   "outputs": [
    {
     "name": "stdout",
     "output_type": "stream",
     "text": [
      "Blob processed: nypd_shooting.csv\n",
      "Shape of the DataFrame: (28562, 26)\n"
     ]
    }
   ],
   "source": [
    "import json\n",
    "import pandas as pd\n",
    "from io import StringIO\n",
    "from azure.storage.blob import BlobServiceClient\n",
    "\n",
    "# Specify the path to the JSON configuration file\n",
    "config_file_path = \"/Users/mario/OneDrive - The City University of New York/Baruch Spring 2024/Cis 9440/cis9440hw/config.json\"\n",
    "\n",
    "# Load the JSON configuration file\n",
    "with open(config_file_path, 'r') as config_file:\n",
    "    config = json.load(config_file)\n",
    "\n",
    "# Extract the Azure Storage connection string, container name, and specific blob name from the config\n",
    "CONNECTION_STRING_AZURE_STORAGE = config[\"azure_storage\"][\"connection_string\"]\n",
    "CONTAINER_AZURE = config[\"azure_storage\"][\"container_name\"]\n",
    "BLOB_NAME = config[\"azure_storage\"][\"blob_name\"]\n",
    "\n",
    "# Initialize the BlobServiceClient with the connection string\n",
    "blob_service_client = BlobServiceClient.from_connection_string(CONNECTION_STRING_AZURE_STORAGE)\n",
    "\n",
    "# Get the blob client for the specified blob within the container\n",
    "blob_client = blob_service_client.get_blob_client(container=CONTAINER_AZURE, blob=BLOB_NAME)\n",
    "\n",
    "# Download the blob data\n",
    "blob_data = blob_client.download_blob()\n",
    "blob_content = blob_data.readall().decode('utf-8')\n",
    "\n",
    "# Load the blob content into a DataFrame\n",
    "df = pd.read_csv(StringIO(blob_content))\n",
    "\n",
    "# Display the blob name and the shape of the DataFrame\n",
    "print(f\"Blob processed: {BLOB_NAME}\")\n",
    "print(f\"Shape of the DataFrame: {df.shape}\")\n"
   ]
  },
  {
   "cell_type": "code",
   "execution_count": 46,
   "id": "f15931c9",
   "metadata": {},
   "outputs": [],
   "source": [
    "nypd_shooting_df = df"
   ]
  },
  {
   "cell_type": "code",
   "execution_count": 47,
   "id": "c19984a7",
   "metadata": {},
   "outputs": [],
   "source": [
    "nypd_shooting_df = df.copy()"
   ]
  },
  {
   "cell_type": "code",
   "execution_count": 48,
   "id": "1a86703e",
   "metadata": {},
   "outputs": [
    {
     "name": "stdout",
     "output_type": "stream",
     "text": [
      "       incident_key               occur_date occur_time      boro  \\\n",
      "0         279709792  2023-12-29T00:00:00.000   21:22:00  BROOKLYN   \n",
      "1         279758069  2023-12-29T00:00:00.000   18:40:00     BRONX   \n",
      "2         279683077  2023-12-29T00:00:00.000   03:43:00    QUEENS   \n",
      "3         279609499  2023-12-27T00:00:00.000   19:47:00     BRONX   \n",
      "4         279547333  2023-12-26T00:00:00.000   23:43:00    QUEENS   \n",
      "...             ...                      ...        ...       ...   \n",
      "28557       9953248  2006-01-01T00:00:00.000   19:00:00    QUEENS   \n",
      "28558     139716503  2006-01-01T00:00:00.000   12:30:00  BROOKLYN   \n",
      "28559       9953247  2006-01-01T00:00:00.000   03:30:00  BROOKLYN   \n",
      "28560       9953250  2006-01-01T00:00:00.000   02:34:00    QUEENS   \n",
      "28561       9953250  2006-01-01T00:00:00.000   02:34:00    QUEENS   \n",
      "\n",
      "      loc_of_occur_desc  precinct  jurisdiction_code loc_classfctn_desc  \\\n",
      "0               OUTSIDE        75                0.0             STREET   \n",
      "1               OUTSIDE        40                0.0             STREET   \n",
      "2                INSIDE       113                0.0         COMMERCIAL   \n",
      "3               OUTSIDE        42                0.0             STREET   \n",
      "4               OUTSIDE       106                0.0             STREET   \n",
      "...                 ...       ...                ...                ...   \n",
      "28557               NaN       106                0.0                NaN   \n",
      "28558               NaN        77                0.0                NaN   \n",
      "28559               NaN        67                0.0                NaN   \n",
      "28560               NaN       114                0.0                NaN   \n",
      "28561               NaN       114                0.0                NaN   \n",
      "\n",
      "          location_desc  statistical_murder_flag  ...    x_coord_cd  \\\n",
      "0                (null)                    False  ...  1.018514e+06   \n",
      "1                (null)                    False  ...  1.010564e+06   \n",
      "2      RESTAURANT/DINER                    False  ...  1.047268e+06   \n",
      "3                (null)                    False  ...  1.015730e+06   \n",
      "4                (null)                     True  ...  1.034904e+06   \n",
      "...                 ...                      ...  ...           ...   \n",
      "28557              NONE                    False  ...  1.028605e+06   \n",
      "28558         PVT HOUSE                     True  ...  9.964416e+05   \n",
      "28559               NaN                    False  ...  9.993160e+05   \n",
      "28560    BAR/NIGHT CLUB                     True  ...  1.002577e+06   \n",
      "28561    BAR/NIGHT CLUB                     True  ...  1.002577e+06   \n",
      "\n",
      "          y_coord_cd   latitude  longitude  \\\n",
      "0      178646.000000  40.656953 -73.876507   \n",
      "1      235262.000000  40.812379 -73.904940   \n",
      "2      189119.000000  40.685543 -73.772774   \n",
      "3      240807.000000  40.827580 -73.886248   \n",
      "4      190307.000000  40.688883 -73.817347   \n",
      "...              ...        ...        ...   \n",
      "28557  187929.500000  40.682397 -73.840081   \n",
      "28558  184160.359375  40.672154 -73.956052   \n",
      "28559  176460.000000  40.651014 -73.945707   \n",
      "28560  221583.453125  40.774861 -73.933833   \n",
      "28561  221583.453125  40.774861 -73.933833   \n",
      "\n",
      "                                         geocoded_column  \\\n",
      "0      {'type': 'Point', 'coordinates': [-73.876507, ...   \n",
      "1      {'type': 'Point', 'coordinates': [-73.90494, 4...   \n",
      "2      {'type': 'Point', 'coordinates': [-73.772774, ...   \n",
      "3      {'type': 'Point', 'coordinates': [-73.886248, ...   \n",
      "4      {'type': 'Point', 'coordinates': [-73.817347, ...   \n",
      "...                                                  ...   \n",
      "28557  {'type': 'Point', 'coordinates': [-73.84008072...   \n",
      "28558  {'type': 'Point', 'coordinates': [-73.95605150...   \n",
      "28559  {'type': 'Point', 'coordinates': [-73.94570651...   \n",
      "28560  {'type': 'Point', 'coordinates': [-73.93383258...   \n",
      "28561  {'type': 'Point', 'coordinates': [-73.93383258...   \n",
      "\n",
      "      :@computed_region_yeji_bk3q  :@computed_region_92fq_4b7q  \\\n",
      "0                             2.0                         25.0   \n",
      "1                             5.0                         35.0   \n",
      "2                             3.0                          6.0   \n",
      "3                             5.0                         43.0   \n",
      "4                             3.0                         46.0   \n",
      "...                           ...                          ...   \n",
      "28557                         3.0                         41.0   \n",
      "28558                         2.0                         48.0   \n",
      "28559                         2.0                         11.0   \n",
      "28560                         3.0                          4.0   \n",
      "28561                         3.0                          4.0   \n",
      "\n",
      "       :@computed_region_sbqj_enih  :@computed_region_efsh_h5xi  \\\n",
      "0                             47.0                      17215.0   \n",
      "1                             23.0                      10933.0   \n",
      "2                             71.0                      24669.0   \n",
      "3                             25.0                      10937.0   \n",
      "4                             64.0                      24015.0   \n",
      "...                            ...                          ...   \n",
      "28557                         64.0                      24013.0   \n",
      "28558                         49.0                      17618.0   \n",
      "28559                         40.0                      16866.0   \n",
      "28560                         72.0                      16859.0   \n",
      "28561                         72.0                      16859.0   \n",
      "\n",
      "       :@computed_region_f5dn_yrer  \n",
      "0                             45.0  \n",
      "1                             49.0  \n",
      "2                             41.0  \n",
      "3                             34.0  \n",
      "4                             62.0  \n",
      "...                            ...  \n",
      "28557                         62.0  \n",
      "28558                         16.0  \n",
      "28559                         61.0  \n",
      "28560                         39.0  \n",
      "28561                         39.0  \n",
      "\n",
      "[28562 rows x 26 columns]\n"
     ]
    }
   ],
   "source": [
    "print(nypd_shooting_df)"
   ]
  },
  {
   "cell_type": "code",
   "execution_count": 49,
   "id": "529a68c9",
   "metadata": {},
   "outputs": [
    {
     "name": "stdout",
     "output_type": "stream",
     "text": [
      "Index(['incident_key', 'occur_date', 'occur_time', 'boro', 'loc_of_occur_desc',\n",
      "       'precinct', 'jurisdiction_code', 'loc_classfctn_desc', 'location_desc',\n",
      "       'statistical_murder_flag', 'perp_age_group', 'perp_sex', 'perp_race',\n",
      "       'vic_age_group', 'vic_sex', 'vic_race', 'x_coord_cd', 'y_coord_cd',\n",
      "       'latitude', 'longitude', 'geocoded_column',\n",
      "       ':@computed_region_yeji_bk3q', ':@computed_region_92fq_4b7q',\n",
      "       ':@computed_region_sbqj_enih', ':@computed_region_efsh_h5xi',\n",
      "       ':@computed_region_f5dn_yrer'],\n",
      "      dtype='object')\n"
     ]
    }
   ],
   "source": [
    "print(nypd_shooting_df.columns)"
   ]
  },
  {
   "cell_type": "code",
   "execution_count": 52,
   "id": "d6d80958",
   "metadata": {},
   "outputs": [],
   "source": [
    "columns_to_drop = nypd_shooting_df.columns[nypd_shooting_df.columns.get_loc('x_coord_cd'):]\n",
    "\n",
    "nypd_shooting_df = nypd_shooting_df.drop(columns=columns_to_drop)"
   ]
  },
  {
   "cell_type": "code",
   "execution_count": 53,
   "id": "95f69ce6",
   "metadata": {},
   "outputs": [
    {
     "name": "stdout",
     "output_type": "stream",
     "text": [
      "Index(['incident_key', 'occur_date', 'occur_time', 'boro', 'loc_of_occur_desc',\n",
      "       'precinct', 'jurisdiction_code', 'loc_classfctn_desc', 'location_desc',\n",
      "       'statistical_murder_flag', 'perp_age_group', 'perp_sex', 'perp_race',\n",
      "       'vic_age_group', 'vic_sex', 'vic_race'],\n",
      "      dtype='object')\n"
     ]
    }
   ],
   "source": [
    "print(nypd_shooting_df.columns)"
   ]
  },
  {
   "cell_type": "code",
   "execution_count": 54,
   "id": "0a547c9e",
   "metadata": {},
   "outputs": [
    {
     "name": "stdout",
     "output_type": "stream",
     "text": [
      "       incident_key               occur_date occur_time      boro  \\\n",
      "0         279709792  2023-12-29T00:00:00.000   21:22:00  BROOKLYN   \n",
      "1         279758069  2023-12-29T00:00:00.000   18:40:00     BRONX   \n",
      "2         279683077  2023-12-29T00:00:00.000   03:43:00    QUEENS   \n",
      "3         279609499  2023-12-27T00:00:00.000   19:47:00     BRONX   \n",
      "4         279547333  2023-12-26T00:00:00.000   23:43:00    QUEENS   \n",
      "...             ...                      ...        ...       ...   \n",
      "28557       9953248  2006-01-01T00:00:00.000   19:00:00    QUEENS   \n",
      "28558     139716503  2006-01-01T00:00:00.000   12:30:00  BROOKLYN   \n",
      "28559       9953247  2006-01-01T00:00:00.000   03:30:00  BROOKLYN   \n",
      "28560       9953250  2006-01-01T00:00:00.000   02:34:00    QUEENS   \n",
      "28561       9953250  2006-01-01T00:00:00.000   02:34:00    QUEENS   \n",
      "\n",
      "      loc_of_occur_desc  precinct  jurisdiction_code loc_classfctn_desc  \\\n",
      "0               OUTSIDE        75                0.0             STREET   \n",
      "1               OUTSIDE        40                0.0             STREET   \n",
      "2                INSIDE       113                0.0         COMMERCIAL   \n",
      "3               OUTSIDE        42                0.0             STREET   \n",
      "4               OUTSIDE       106                0.0             STREET   \n",
      "...                 ...       ...                ...                ...   \n",
      "28557               NaN       106                0.0                NaN   \n",
      "28558               NaN        77                0.0                NaN   \n",
      "28559               NaN        67                0.0                NaN   \n",
      "28560               NaN       114                0.0                NaN   \n",
      "28561               NaN       114                0.0                NaN   \n",
      "\n",
      "          location_desc  statistical_murder_flag perp_age_group perp_sex  \\\n",
      "0                (null)                    False          25-44        M   \n",
      "1                (null)                    False         (null)   (null)   \n",
      "2      RESTAURANT/DINER                    False         (null)   (null)   \n",
      "3                (null)                    False         (null)   (null)   \n",
      "4                (null)                     True         (null)   (null)   \n",
      "...                 ...                      ...            ...      ...   \n",
      "28557              NONE                    False          18-24        M   \n",
      "28558         PVT HOUSE                     True            NaN      NaN   \n",
      "28559               NaN                    False        UNKNOWN        U   \n",
      "28560    BAR/NIGHT CLUB                     True          18-24        M   \n",
      "28561    BAR/NIGHT CLUB                     True          25-44        M   \n",
      "\n",
      "      perp_race vic_age_group vic_sex        vic_race  \n",
      "0         BLACK         25-44       M           BLACK  \n",
      "1        (null)           65+       M  BLACK HISPANIC  \n",
      "2        (null)         25-44       M           BLACK  \n",
      "3        (null)           <18       M  BLACK HISPANIC  \n",
      "4        (null)         25-44       F  BLACK HISPANIC  \n",
      "...         ...           ...     ...             ...  \n",
      "28557     BLACK         18-24       M           BLACK  \n",
      "28558       NaN         25-44       M           BLACK  \n",
      "28559   UNKNOWN         18-24       M           BLACK  \n",
      "28560     BLACK         25-44       M           BLACK  \n",
      "28561     BLACK         25-44       M           BLACK  \n",
      "\n",
      "[28562 rows x 16 columns]\n"
     ]
    }
   ],
   "source": [
    "print(nypd_shooting_df)"
   ]
  },
  {
   "cell_type": "code",
   "execution_count": 55,
   "id": "a9974482",
   "metadata": {},
   "outputs": [
    {
     "data": {
      "text/html": [
       "<div>\n",
       "<style scoped>\n",
       "    .dataframe tbody tr th:only-of-type {\n",
       "        vertical-align: middle;\n",
       "    }\n",
       "\n",
       "    .dataframe tbody tr th {\n",
       "        vertical-align: top;\n",
       "    }\n",
       "\n",
       "    .dataframe thead th {\n",
       "        text-align: right;\n",
       "    }\n",
       "</style>\n",
       "<table border=\"1\" class=\"dataframe\">\n",
       "  <thead>\n",
       "    <tr style=\"text-align: right;\">\n",
       "      <th></th>\n",
       "      <th>incident_key</th>\n",
       "      <th>occur_date</th>\n",
       "      <th>occur_time</th>\n",
       "      <th>boro</th>\n",
       "      <th>loc_of_occur_desc</th>\n",
       "      <th>precinct</th>\n",
       "      <th>jurisdiction_code</th>\n",
       "      <th>loc_classfctn_desc</th>\n",
       "      <th>location_desc</th>\n",
       "      <th>statistical_murder_flag</th>\n",
       "      <th>perp_age_group</th>\n",
       "      <th>perp_sex</th>\n",
       "      <th>perp_race</th>\n",
       "      <th>vic_age_group</th>\n",
       "      <th>vic_sex</th>\n",
       "      <th>vic_race</th>\n",
       "    </tr>\n",
       "  </thead>\n",
       "  <tbody>\n",
       "    <tr>\n",
       "      <th>0</th>\n",
       "      <td>279709792</td>\n",
       "      <td>2023-12-29T00:00:00.000</td>\n",
       "      <td>21:22:00</td>\n",
       "      <td>BROOKLYN</td>\n",
       "      <td>OUTSIDE</td>\n",
       "      <td>75</td>\n",
       "      <td>0.0</td>\n",
       "      <td>STREET</td>\n",
       "      <td>(null)</td>\n",
       "      <td>False</td>\n",
       "      <td>25-44</td>\n",
       "      <td>M</td>\n",
       "      <td>BLACK</td>\n",
       "      <td>25-44</td>\n",
       "      <td>M</td>\n",
       "      <td>BLACK</td>\n",
       "    </tr>\n",
       "    <tr>\n",
       "      <th>1</th>\n",
       "      <td>279758069</td>\n",
       "      <td>2023-12-29T00:00:00.000</td>\n",
       "      <td>18:40:00</td>\n",
       "      <td>BRONX</td>\n",
       "      <td>OUTSIDE</td>\n",
       "      <td>40</td>\n",
       "      <td>0.0</td>\n",
       "      <td>STREET</td>\n",
       "      <td>(null)</td>\n",
       "      <td>False</td>\n",
       "      <td>(null)</td>\n",
       "      <td>(null)</td>\n",
       "      <td>(null)</td>\n",
       "      <td>65+</td>\n",
       "      <td>M</td>\n",
       "      <td>BLACK HISPANIC</td>\n",
       "    </tr>\n",
       "    <tr>\n",
       "      <th>2</th>\n",
       "      <td>279683077</td>\n",
       "      <td>2023-12-29T00:00:00.000</td>\n",
       "      <td>03:43:00</td>\n",
       "      <td>QUEENS</td>\n",
       "      <td>INSIDE</td>\n",
       "      <td>113</td>\n",
       "      <td>0.0</td>\n",
       "      <td>COMMERCIAL</td>\n",
       "      <td>RESTAURANT/DINER</td>\n",
       "      <td>False</td>\n",
       "      <td>(null)</td>\n",
       "      <td>(null)</td>\n",
       "      <td>(null)</td>\n",
       "      <td>25-44</td>\n",
       "      <td>M</td>\n",
       "      <td>BLACK</td>\n",
       "    </tr>\n",
       "    <tr>\n",
       "      <th>3</th>\n",
       "      <td>279609499</td>\n",
       "      <td>2023-12-27T00:00:00.000</td>\n",
       "      <td>19:47:00</td>\n",
       "      <td>BRONX</td>\n",
       "      <td>OUTSIDE</td>\n",
       "      <td>42</td>\n",
       "      <td>0.0</td>\n",
       "      <td>STREET</td>\n",
       "      <td>(null)</td>\n",
       "      <td>False</td>\n",
       "      <td>(null)</td>\n",
       "      <td>(null)</td>\n",
       "      <td>(null)</td>\n",
       "      <td>&lt;18</td>\n",
       "      <td>M</td>\n",
       "      <td>BLACK HISPANIC</td>\n",
       "    </tr>\n",
       "    <tr>\n",
       "      <th>4</th>\n",
       "      <td>279547333</td>\n",
       "      <td>2023-12-26T00:00:00.000</td>\n",
       "      <td>23:43:00</td>\n",
       "      <td>QUEENS</td>\n",
       "      <td>OUTSIDE</td>\n",
       "      <td>106</td>\n",
       "      <td>0.0</td>\n",
       "      <td>STREET</td>\n",
       "      <td>(null)</td>\n",
       "      <td>True</td>\n",
       "      <td>(null)</td>\n",
       "      <td>(null)</td>\n",
       "      <td>(null)</td>\n",
       "      <td>25-44</td>\n",
       "      <td>F</td>\n",
       "      <td>BLACK HISPANIC</td>\n",
       "    </tr>\n",
       "  </tbody>\n",
       "</table>\n",
       "</div>"
      ],
      "text/plain": [
       "   incident_key               occur_date occur_time      boro  \\\n",
       "0     279709792  2023-12-29T00:00:00.000   21:22:00  BROOKLYN   \n",
       "1     279758069  2023-12-29T00:00:00.000   18:40:00     BRONX   \n",
       "2     279683077  2023-12-29T00:00:00.000   03:43:00    QUEENS   \n",
       "3     279609499  2023-12-27T00:00:00.000   19:47:00     BRONX   \n",
       "4     279547333  2023-12-26T00:00:00.000   23:43:00    QUEENS   \n",
       "\n",
       "  loc_of_occur_desc  precinct  jurisdiction_code loc_classfctn_desc  \\\n",
       "0           OUTSIDE        75                0.0             STREET   \n",
       "1           OUTSIDE        40                0.0             STREET   \n",
       "2            INSIDE       113                0.0         COMMERCIAL   \n",
       "3           OUTSIDE        42                0.0             STREET   \n",
       "4           OUTSIDE       106                0.0             STREET   \n",
       "\n",
       "      location_desc  statistical_murder_flag perp_age_group perp_sex  \\\n",
       "0            (null)                    False          25-44        M   \n",
       "1            (null)                    False         (null)   (null)   \n",
       "2  RESTAURANT/DINER                    False         (null)   (null)   \n",
       "3            (null)                    False         (null)   (null)   \n",
       "4            (null)                     True         (null)   (null)   \n",
       "\n",
       "  perp_race vic_age_group vic_sex        vic_race  \n",
       "0     BLACK         25-44       M           BLACK  \n",
       "1    (null)           65+       M  BLACK HISPANIC  \n",
       "2    (null)         25-44       M           BLACK  \n",
       "3    (null)           <18       M  BLACK HISPANIC  \n",
       "4    (null)         25-44       F  BLACK HISPANIC  "
      ]
     },
     "execution_count": 55,
     "metadata": {},
     "output_type": "execute_result"
    }
   ],
   "source": [
    "nypd_shooting_df.head()"
   ]
  },
  {
   "cell_type": "code",
   "execution_count": 56,
   "id": "c6a00678",
   "metadata": {},
   "outputs": [],
   "source": [
    "nypd_shooting_df = nypd_shooting_df.drop(columns=['loc_classfctn_desc', 'loc_of_occur_desc'])"
   ]
  },
  {
   "cell_type": "code",
   "execution_count": 57,
   "id": "bb916053",
   "metadata": {},
   "outputs": [
    {
     "name": "stdout",
     "output_type": "stream",
     "text": [
      "       incident_key               occur_date occur_time      boro  precinct  \\\n",
      "0         279709792  2023-12-29T00:00:00.000   21:22:00  BROOKLYN        75   \n",
      "1         279758069  2023-12-29T00:00:00.000   18:40:00     BRONX        40   \n",
      "2         279683077  2023-12-29T00:00:00.000   03:43:00    QUEENS       113   \n",
      "3         279609499  2023-12-27T00:00:00.000   19:47:00     BRONX        42   \n",
      "4         279547333  2023-12-26T00:00:00.000   23:43:00    QUEENS       106   \n",
      "...             ...                      ...        ...       ...       ...   \n",
      "28557       9953248  2006-01-01T00:00:00.000   19:00:00    QUEENS       106   \n",
      "28558     139716503  2006-01-01T00:00:00.000   12:30:00  BROOKLYN        77   \n",
      "28559       9953247  2006-01-01T00:00:00.000   03:30:00  BROOKLYN        67   \n",
      "28560       9953250  2006-01-01T00:00:00.000   02:34:00    QUEENS       114   \n",
      "28561       9953250  2006-01-01T00:00:00.000   02:34:00    QUEENS       114   \n",
      "\n",
      "       jurisdiction_code     location_desc  statistical_murder_flag  \\\n",
      "0                    0.0            (null)                    False   \n",
      "1                    0.0            (null)                    False   \n",
      "2                    0.0  RESTAURANT/DINER                    False   \n",
      "3                    0.0            (null)                    False   \n",
      "4                    0.0            (null)                     True   \n",
      "...                  ...               ...                      ...   \n",
      "28557                0.0              NONE                    False   \n",
      "28558                0.0         PVT HOUSE                     True   \n",
      "28559                0.0               NaN                    False   \n",
      "28560                0.0    BAR/NIGHT CLUB                     True   \n",
      "28561                0.0    BAR/NIGHT CLUB                     True   \n",
      "\n",
      "      perp_age_group perp_sex perp_race vic_age_group vic_sex        vic_race  \n",
      "0              25-44        M     BLACK         25-44       M           BLACK  \n",
      "1             (null)   (null)    (null)           65+       M  BLACK HISPANIC  \n",
      "2             (null)   (null)    (null)         25-44       M           BLACK  \n",
      "3             (null)   (null)    (null)           <18       M  BLACK HISPANIC  \n",
      "4             (null)   (null)    (null)         25-44       F  BLACK HISPANIC  \n",
      "...              ...      ...       ...           ...     ...             ...  \n",
      "28557          18-24        M     BLACK         18-24       M           BLACK  \n",
      "28558            NaN      NaN       NaN         25-44       M           BLACK  \n",
      "28559        UNKNOWN        U   UNKNOWN         18-24       M           BLACK  \n",
      "28560          18-24        M     BLACK         25-44       M           BLACK  \n",
      "28561          25-44        M     BLACK         25-44       M           BLACK  \n",
      "\n",
      "[28562 rows x 14 columns]\n"
     ]
    }
   ],
   "source": [
    "print(nypd_shooting_df)"
   ]
  },
  {
   "cell_type": "code",
   "execution_count": 58,
   "id": "9bd451d0",
   "metadata": {},
   "outputs": [],
   "source": [
    "nypd_shooting_df = nypd_shooting_df.drop(columns=['statistical_murder_flag'])"
   ]
  },
  {
   "cell_type": "code",
   "execution_count": 59,
   "id": "45907e80",
   "metadata": {},
   "outputs": [
    {
     "name": "stdout",
     "output_type": "stream",
     "text": [
      "       incident_key               occur_date occur_time      boro  precinct  \\\n",
      "0         279709792  2023-12-29T00:00:00.000   21:22:00  BROOKLYN        75   \n",
      "1         279758069  2023-12-29T00:00:00.000   18:40:00     BRONX        40   \n",
      "2         279683077  2023-12-29T00:00:00.000   03:43:00    QUEENS       113   \n",
      "3         279609499  2023-12-27T00:00:00.000   19:47:00     BRONX        42   \n",
      "4         279547333  2023-12-26T00:00:00.000   23:43:00    QUEENS       106   \n",
      "...             ...                      ...        ...       ...       ...   \n",
      "28557       9953248  2006-01-01T00:00:00.000   19:00:00    QUEENS       106   \n",
      "28558     139716503  2006-01-01T00:00:00.000   12:30:00  BROOKLYN        77   \n",
      "28559       9953247  2006-01-01T00:00:00.000   03:30:00  BROOKLYN        67   \n",
      "28560       9953250  2006-01-01T00:00:00.000   02:34:00    QUEENS       114   \n",
      "28561       9953250  2006-01-01T00:00:00.000   02:34:00    QUEENS       114   \n",
      "\n",
      "       jurisdiction_code     location_desc perp_age_group perp_sex perp_race  \\\n",
      "0                    0.0            (null)          25-44        M     BLACK   \n",
      "1                    0.0            (null)         (null)   (null)    (null)   \n",
      "2                    0.0  RESTAURANT/DINER         (null)   (null)    (null)   \n",
      "3                    0.0            (null)         (null)   (null)    (null)   \n",
      "4                    0.0            (null)         (null)   (null)    (null)   \n",
      "...                  ...               ...            ...      ...       ...   \n",
      "28557                0.0              NONE          18-24        M     BLACK   \n",
      "28558                0.0         PVT HOUSE            NaN      NaN       NaN   \n",
      "28559                0.0               NaN        UNKNOWN        U   UNKNOWN   \n",
      "28560                0.0    BAR/NIGHT CLUB          18-24        M     BLACK   \n",
      "28561                0.0    BAR/NIGHT CLUB          25-44        M     BLACK   \n",
      "\n",
      "      vic_age_group vic_sex        vic_race  \n",
      "0             25-44       M           BLACK  \n",
      "1               65+       M  BLACK HISPANIC  \n",
      "2             25-44       M           BLACK  \n",
      "3               <18       M  BLACK HISPANIC  \n",
      "4             25-44       F  BLACK HISPANIC  \n",
      "...             ...     ...             ...  \n",
      "28557         18-24       M           BLACK  \n",
      "28558         25-44       M           BLACK  \n",
      "28559         18-24       M           BLACK  \n",
      "28560         25-44       M           BLACK  \n",
      "28561         25-44       M           BLACK  \n",
      "\n",
      "[28562 rows x 13 columns]\n"
     ]
    }
   ],
   "source": [
    "print(nypd_shooting_df)"
   ]
  },
  {
   "cell_type": "code",
   "execution_count": 62,
   "id": "8ad5f552",
   "metadata": {},
   "outputs": [
    {
     "name": "stdout",
     "output_type": "stream",
     "text": [
      "   incident_key               occur_date occur_time      boro  precinct  \\\n",
      "0     279709792  2023-12-29T00:00:00.000   21:22:00  BROOKLYN        75   \n",
      "1     279758069  2023-12-29T00:00:00.000   18:40:00     BRONX        40   \n",
      "2     279683077  2023-12-29T00:00:00.000   03:43:00    QUEENS       113   \n",
      "3     279609499  2023-12-27T00:00:00.000   19:47:00     BRONX        42   \n",
      "4     279547333  2023-12-26T00:00:00.000   23:43:00    QUEENS       106   \n",
      "\n",
      "  jurisdiction_code     location_desc perp_age_group perp_sex perp_race  \\\n",
      "0               0.0            (null)          25-44        M     BLACK   \n",
      "1               0.0            (null)         (null)   (null)    (null)   \n",
      "2               0.0  RESTAURANT/DINER         (null)   (null)    (null)   \n",
      "3               0.0            (null)         (null)   (null)    (null)   \n",
      "4               0.0            (null)         (null)   (null)    (null)   \n",
      "\n",
      "  vic_age_group vic_sex        vic_race  \n",
      "0         25-44       M           BLACK  \n",
      "1           65+       M  BLACK HISPANIC  \n",
      "2         25-44       M           BLACK  \n",
      "3           <18       M  BLACK HISPANIC  \n",
      "4         25-44       F  BLACK HISPANIC  \n"
     ]
    }
   ],
   "source": [
    "# Assuming nypd_shooting_df is your DataFrame\n",
    "nypd_shooting_df = nypd_shooting_df.fillna('')\n",
    "\n",
    "# To confirm the changes or view part of the DataFrame\n",
    "print(nypd_shooting_df.head())\n"
   ]
  },
  {
   "cell_type": "code",
   "execution_count": 63,
   "id": "d5ad485e",
   "metadata": {},
   "outputs": [
    {
     "name": "stdout",
     "output_type": "stream",
     "text": [
      "(28562, 13)\n"
     ]
    }
   ],
   "source": [
    "print(nypd_shooting_df.shape)"
   ]
  },
  {
   "cell_type": "code",
   "execution_count": 64,
   "id": "46219755",
   "metadata": {},
   "outputs": [
    {
     "name": "stdout",
     "output_type": "stream",
     "text": [
      "   incident_key               occur_date occur_time      boro  precinct  \\\n",
      "0     279709792  2023-12-29T00:00:00.000   21:22:00  BROOKLYN        75   \n",
      "1     279758069  2023-12-29T00:00:00.000   18:40:00     BRONX        40   \n",
      "2     279683077  2023-12-29T00:00:00.000   03:43:00    QUEENS       113   \n",
      "3     279609499  2023-12-27T00:00:00.000   19:47:00     BRONX        42   \n",
      "4     279547333  2023-12-26T00:00:00.000   23:43:00    QUEENS       106   \n",
      "\n",
      "  jurisdiction_code     location_desc perp_age_group perp_sex perp_race  \\\n",
      "0               0.0                            25-44        M     BLACK   \n",
      "1               0.0                                                       \n",
      "2               0.0  RESTAURANT/DINER                                     \n",
      "3               0.0                                                       \n",
      "4               0.0                                                       \n",
      "\n",
      "  vic_age_group vic_sex        vic_race  \n",
      "0         25-44       M           BLACK  \n",
      "1           65+       M  BLACK HISPANIC  \n",
      "2         25-44       M           BLACK  \n",
      "3           <18       M  BLACK HISPANIC  \n",
      "4         25-44       F  BLACK HISPANIC  \n"
     ]
    }
   ],
   "source": [
    "# Replace '(null)' with an empty string in the entire DataFrame\n",
    "nypd_shooting_df = nypd_shooting_df.replace('(null)', '')\n",
    "\n",
    "# To verify the changes, you can print part of the DataFrame\n",
    "print(nypd_shooting_df.head())\n"
   ]
  },
  {
   "cell_type": "code",
   "execution_count": 71,
   "id": "008a9bab",
   "metadata": {},
   "outputs": [
    {
     "name": "stdout",
     "output_type": "stream",
     "text": [
      "<class 'pandas.core.frame.DataFrame'>\n",
      "RangeIndex: 28562 entries, 0 to 28561\n",
      "Data columns (total 5 columns):\n",
      " #   Column             Non-Null Count  Dtype \n",
      "---  ------             --------------  ----- \n",
      " 0   location_id        28562 non-null  int64 \n",
      " 1   boro               28562 non-null  string\n",
      " 2   precinct           28562 non-null  string\n",
      " 3   jurisdiction_code  28562 non-null  string\n",
      " 4   location_desc      28562 non-null  string\n",
      "dtypes: int64(1), string(4)\n",
      "memory usage: 1.1 MB\n",
      "None\n",
      "   location_id      boro precinct jurisdiction_code     location_desc\n",
      "0            1  BROOKLYN       75               0.0                  \n",
      "1            2     BRONX       40               0.0                  \n",
      "2            3    QUEENS      113               0.0  RESTAURANT/DINER\n",
      "3            4     BRONX       42               0.0                  \n",
      "4            5    QUEENS      106               0.0                  \n"
     ]
    }
   ],
   "source": [
    "# Sample setup from your snippet, assuming nypd_shooting_df is predefined\n",
    "location_dimension_df = nypd_shooting_df[['boro', 'precinct', 'jurisdiction_code', 'location_desc']].copy()\n",
    "location_dimension_df['location_id'] = np.arange(1, len(location_dimension_df) + 1)\n",
    "\n",
    "# Setting the data types correctly\n",
    "location_dimension_df['location_id'] = location_dimension_df['location_id'].astype('int64')\n",
    "location_dimension_df['boro'] = location_dimension_df['boro'].astype('string')\n",
    "location_dimension_df['precinct'] = location_dimension_df['precinct'].astype('string')  # corrected to integer\n",
    "location_dimension_df['jurisdiction_code'] = location_dimension_df['jurisdiction_code'].astype('string')  # corrected to integer\n",
    "location_dimension_df['location_desc'] = location_dimension_df['location_desc'].astype('string')\n",
    "\n",
    "# Reorder columns to make 'location_id' the first column\n",
    "cols = ['location_id'] + [col for col in location_dimension_df if col != 'location_id']\n",
    "location_dimension_df = location_dimension_df[cols]\n",
    "\n",
    "# Display the DataFrame structure and the first few rows to verify\n",
    "print(location_dimension_df.info())\n",
    "print(location_dimension_df.head())"
   ]
  },
  {
   "cell_type": "code",
   "execution_count": 72,
   "id": "4d2ca3b4",
   "metadata": {},
   "outputs": [],
   "source": [
    "dim_location = location_dimension_df"
   ]
  },
  {
   "cell_type": "code",
   "execution_count": 73,
   "id": "b0bc5d69",
   "metadata": {},
   "outputs": [
    {
     "name": "stdout",
     "output_type": "stream",
     "text": [
      "       location_id      boro precinct jurisdiction_code     location_desc\n",
      "0                1  BROOKLYN       75               0.0                  \n",
      "1                2     BRONX       40               0.0                  \n",
      "2                3    QUEENS      113               0.0  RESTAURANT/DINER\n",
      "3                4     BRONX       42               0.0                  \n",
      "4                5    QUEENS      106               0.0                  \n",
      "...            ...       ...      ...               ...               ...\n",
      "28557        28558    QUEENS      106               0.0              NONE\n",
      "28558        28559  BROOKLYN       77               0.0         PVT HOUSE\n",
      "28559        28560  BROOKLYN       67               0.0                  \n",
      "28560        28561    QUEENS      114               0.0    BAR/NIGHT CLUB\n",
      "28561        28562    QUEENS      114               0.0    BAR/NIGHT CLUB\n",
      "\n",
      "[28562 rows x 5 columns]\n"
     ]
    }
   ],
   "source": [
    "print(dim_location)"
   ]
  },
  {
   "cell_type": "code",
   "execution_count": 74,
   "id": "3b11a065",
   "metadata": {},
   "outputs": [
    {
     "name": "stdout",
     "output_type": "stream",
     "text": [
      "Index(['incident_key', 'occur_date', 'occur_time', 'boro', 'precinct',\n",
      "       'jurisdiction_code', 'location_desc', 'perp_age_group', 'perp_sex',\n",
      "       'perp_race', 'vic_age_group', 'vic_sex', 'vic_race'],\n",
      "      dtype='object')\n"
     ]
    }
   ],
   "source": [
    "print(nypd_shooting_df.columns)"
   ]
  },
  {
   "cell_type": "code",
   "execution_count": 75,
   "id": "42cdd640",
   "metadata": {},
   "outputs": [
    {
     "name": "stdout",
     "output_type": "stream",
     "text": [
      "<class 'pandas.core.frame.DataFrame'>\n",
      "RangeIndex: 28562 entries, 0 to 28561\n",
      "Data columns (total 4 columns):\n",
      " #   Column          Non-Null Count  Dtype \n",
      "---  ------          --------------  ----- \n",
      " 0   perp_id         28562 non-null  int64 \n",
      " 1   perp_age_group  28562 non-null  string\n",
      " 2   perp_sex        28562 non-null  string\n",
      " 3   perp_race       28562 non-null  string\n",
      "dtypes: int64(1), string(3)\n",
      "memory usage: 892.7 KB\n",
      "None\n",
      "   perp_id perp_age_group perp_sex perp_race\n",
      "0        1          25-44        M     BLACK\n",
      "1        2                                  \n",
      "2        3                                  \n",
      "3        4                                  \n",
      "4        5                                  \n"
     ]
    }
   ],
   "source": [
    "# Select the required columns\n",
    "perpetrator_dimension_df = nypd_shooting_df[['perp_age_group', 'perp_sex', 'perp_race']].copy()\n",
    "\n",
    "# Create a primary key column 'perp_id'\n",
    "# Assuming you want a simple auto-increment integer starting from 1\n",
    "perpetrator_dimension_df['perp_id'] = np.arange(1, len(perpetrator_dimension_df) + 1)\n",
    "\n",
    "# Set the data types\n",
    "perpetrator_dimension_df['perp_id'] = perpetrator_dimension_df['perp_id'].astype('int64')  # bigint equivalent in pandas\n",
    "perpetrator_dimension_df['perp_age_group'] = perpetrator_dimension_df['perp_age_group'].astype('string')  # varchar equivalent\n",
    "perpetrator_dimension_df['perp_sex'] = perpetrator_dimension_df['perp_sex'].astype('string')  # varchar equivalent\n",
    "perpetrator_dimension_df['perp_race'] = perpetrator_dimension_df['perp_race'].astype('string')  # varchar equivalent\n",
    "\n",
    "# Reorder columns to make 'perp_id' the first column\n",
    "cols = ['perp_id'] + [col for col in perpetrator_dimension_df.columns if col != 'perp_id']\n",
    "perpetrator_dimension_df = perpetrator_dimension_df[cols]\n",
    "\n",
    "# Display the DataFrame structure\n",
    "print(perpetrator_dimension_df.info())\n",
    "print(perpetrator_dimension_df.head())"
   ]
  },
  {
   "cell_type": "code",
   "execution_count": 77,
   "id": "95f0c985",
   "metadata": {},
   "outputs": [],
   "source": [
    "dim_perpetrator = perpetrator_dimension_df"
   ]
  },
  {
   "cell_type": "code",
   "execution_count": 78,
   "id": "e44136af",
   "metadata": {},
   "outputs": [
    {
     "name": "stdout",
     "output_type": "stream",
     "text": [
      "       perp_id perp_age_group perp_sex perp_race\n",
      "0            1          25-44        M     BLACK\n",
      "1            2                                  \n",
      "2            3                                  \n",
      "3            4                                  \n",
      "4            5                                  \n",
      "...        ...            ...      ...       ...\n",
      "28557    28558          18-24        M     BLACK\n",
      "28558    28559                                  \n",
      "28559    28560        UNKNOWN        U   UNKNOWN\n",
      "28560    28561          18-24        M     BLACK\n",
      "28561    28562          25-44        M     BLACK\n",
      "\n",
      "[28562 rows x 4 columns]\n"
     ]
    }
   ],
   "source": [
    "print(dim_perpetrator)"
   ]
  },
  {
   "cell_type": "code",
   "execution_count": 79,
   "id": "b92e225e",
   "metadata": {},
   "outputs": [
    {
     "name": "stdout",
     "output_type": "stream",
     "text": [
      "<class 'pandas.core.frame.DataFrame'>\n",
      "RangeIndex: 28562 entries, 0 to 28561\n",
      "Data columns (total 4 columns):\n",
      " #   Column         Non-Null Count  Dtype \n",
      "---  ------         --------------  ----- \n",
      " 0   vic_id         28562 non-null  int64 \n",
      " 1   vic_age_group  28562 non-null  string\n",
      " 2   vic_sex        28562 non-null  string\n",
      " 3   vic_race       28562 non-null  string\n",
      "dtypes: int64(1), string(3)\n",
      "memory usage: 892.7 KB\n",
      "None\n",
      "   vic_id vic_age_group vic_sex        vic_race\n",
      "0       1         25-44       M           BLACK\n",
      "1       2           65+       M  BLACK HISPANIC\n",
      "2       3         25-44       M           BLACK\n",
      "3       4           <18       M  BLACK HISPANIC\n",
      "4       5         25-44       F  BLACK HISPANIC\n"
     ]
    }
   ],
   "source": [
    "# Select the required columns\n",
    "victim_dimension_df = nypd_shooting_df[['vic_age_group', 'vic_sex', 'vic_race']].copy()\n",
    "\n",
    "# Create a primary key column 'vic_id'\n",
    "# Assuming you want a simple auto-increment integer starting from 1\n",
    "victim_dimension_df['vic_id'] = np.arange(1, len(victim_dimension_df) + 1)\n",
    "\n",
    "# Set the data types\n",
    "victim_dimension_df['vic_id'] = victim_dimension_df['vic_id'].astype('int64')  # bigint equivalent in pandas\n",
    "victim_dimension_df['vic_age_group'] = victim_dimension_df['vic_age_group'].astype('string')  # varchar equivalent\n",
    "victim_dimension_df['vic_sex'] = victim_dimension_df['vic_sex'].astype('string')  # varchar equivalent\n",
    "victim_dimension_df['vic_race'] = victim_dimension_df['vic_race'].astype('string')  # varchar equivalent\n",
    "\n",
    "# Reorder columns to make 'vic_id' the first column\n",
    "cols = ['vic_id'] + [col for col in victim_dimension_df.columns if col != 'vic_id']\n",
    "victim_dimension_df = victim_dimension_df[cols]\n",
    "\n",
    "# Display the DataFrame structure\n",
    "print(victim_dimension_df.info())\n",
    "print(victim_dimension_df.head())"
   ]
  },
  {
   "cell_type": "code",
   "execution_count": 81,
   "id": "1c857aa9",
   "metadata": {},
   "outputs": [],
   "source": [
    "dim_victim = victim_dimension_df"
   ]
  },
  {
   "cell_type": "code",
   "execution_count": 82,
   "id": "2a112a1d",
   "metadata": {},
   "outputs": [
    {
     "name": "stdout",
     "output_type": "stream",
     "text": [
      "       vic_id vic_age_group vic_sex        vic_race\n",
      "0           1         25-44       M           BLACK\n",
      "1           2           65+       M  BLACK HISPANIC\n",
      "2           3         25-44       M           BLACK\n",
      "3           4           <18       M  BLACK HISPANIC\n",
      "4           5         25-44       F  BLACK HISPANIC\n",
      "...       ...           ...     ...             ...\n",
      "28557   28558         18-24       M           BLACK\n",
      "28558   28559         25-44       M           BLACK\n",
      "28559   28560         18-24       M           BLACK\n",
      "28560   28561         25-44       M           BLACK\n",
      "28561   28562         25-44       M           BLACK\n",
      "\n",
      "[28562 rows x 4 columns]\n"
     ]
    }
   ],
   "source": [
    "print(dim_victim)"
   ]
  },
  {
   "cell_type": "code",
   "execution_count": 83,
   "id": "58b194ce",
   "metadata": {},
   "outputs": [
    {
     "name": "stdout",
     "output_type": "stream",
     "text": [
      "<class 'pandas.core.frame.DataFrame'>\n",
      "RangeIndex: 28562 entries, 0 to 28561\n",
      "Data columns (total 3 columns):\n",
      " #   Column      Non-Null Count  Dtype \n",
      "---  ------      --------------  ----- \n",
      " 0   date_id     28562 non-null  int64 \n",
      " 1   occur_date  28562 non-null  string\n",
      " 2   occur_time  28562 non-null  string\n",
      "dtypes: int64(1), string(2)\n",
      "memory usage: 669.6 KB\n",
      "None\n",
      "   date_id               occur_date occur_time\n",
      "0        1  2023-12-29T00:00:00.000   21:22:00\n",
      "1        2  2023-12-29T00:00:00.000   18:40:00\n",
      "2        3  2023-12-29T00:00:00.000   03:43:00\n",
      "3        4  2023-12-27T00:00:00.000   19:47:00\n",
      "4        5  2023-12-26T00:00:00.000   23:43:00\n"
     ]
    }
   ],
   "source": [
    "# Select the required columns\n",
    "date_dimension_df = nypd_shooting_df[['occur_date', 'occur_time']].copy()\n",
    "\n",
    "# Create a primary key column 'date_id'\n",
    "# Assuming you want a simple auto-increment integer starting from 1\n",
    "date_dimension_df['date_id'] = np.arange(1, len(date_dimension_df) + 1)\n",
    "\n",
    "# Set the data types\n",
    "date_dimension_df['date_id'] = date_dimension_df['date_id'].astype('int64')  # bigint equivalent in pandas\n",
    "date_dimension_df['occur_date'] = date_dimension_df['occur_date'].astype('string')  # varchar equivalent\n",
    "date_dimension_df['occur_time'] = date_dimension_df['occur_time'].astype('string')  # varchar equivalent\n",
    "\n",
    "# Reorder columns to make 'date_id' the first column\n",
    "cols = ['date_id'] + [col for col in date_dimension_df.columns if col != 'date_id']\n",
    "date_dimension_df = date_dimension_df[cols]\n",
    "\n",
    "# Display the DataFrame structure\n",
    "print(date_dimension_df.info())\n",
    "print(date_dimension_df.head())"
   ]
  },
  {
   "cell_type": "code",
   "execution_count": 84,
   "id": "b474dddb",
   "metadata": {},
   "outputs": [
    {
     "name": "stdout",
     "output_type": "stream",
     "text": [
      "       date_id               occur_date occur_time\n",
      "0            1  2023-12-29T00:00:00.000   21:22:00\n",
      "1            2  2023-12-29T00:00:00.000   18:40:00\n",
      "2            3  2023-12-29T00:00:00.000   03:43:00\n",
      "3            4  2023-12-27T00:00:00.000   19:47:00\n",
      "4            5  2023-12-26T00:00:00.000   23:43:00\n",
      "...        ...                      ...        ...\n",
      "28557    28558  2006-01-01T00:00:00.000   19:00:00\n",
      "28558    28559  2006-01-01T00:00:00.000   12:30:00\n",
      "28559    28560  2006-01-01T00:00:00.000   03:30:00\n",
      "28560    28561  2006-01-01T00:00:00.000   02:34:00\n",
      "28561    28562  2006-01-01T00:00:00.000   02:34:00\n",
      "\n",
      "[28562 rows x 3 columns]\n"
     ]
    }
   ],
   "source": [
    "dim_date = date_dimension_df\n",
    "print(dim_date)"
   ]
  },
  {
   "cell_type": "code",
   "execution_count": 88,
   "id": "cd47c7f6",
   "metadata": {},
   "outputs": [],
   "source": [
    "dim_date['occur_date'] = pd.to_datetime(dim_date['occur_date'])"
   ]
  },
  {
   "cell_type": "code",
   "execution_count": 89,
   "id": "e888fc23",
   "metadata": {},
   "outputs": [
    {
     "name": "stdout",
     "output_type": "stream",
     "text": [
      "0   2023-12-29\n",
      "1   2023-12-29\n",
      "2   2023-12-29\n",
      "3   2023-12-27\n",
      "4   2023-12-26\n",
      "Name: occur_date, dtype: datetime64[ns]\n"
     ]
    }
   ],
   "source": [
    "print(dim_date['occur_date'].head())"
   ]
  },
  {
   "cell_type": "code",
   "execution_count": 90,
   "id": "8abc383d",
   "metadata": {},
   "outputs": [],
   "source": [
    "dim_date['occur_date'] = dim_date['occur_date'].dt.date"
   ]
  },
  {
   "cell_type": "code",
   "execution_count": 91,
   "id": "8b9d90d7",
   "metadata": {},
   "outputs": [
    {
     "name": "stdout",
     "output_type": "stream",
     "text": [
      "       date_id  occur_date occur_time\n",
      "0            1  2023-12-29   21:22:00\n",
      "1            2  2023-12-29   18:40:00\n",
      "2            3  2023-12-29   03:43:00\n",
      "3            4  2023-12-27   19:47:00\n",
      "4            5  2023-12-26   23:43:00\n",
      "...        ...         ...        ...\n",
      "28557    28558  2006-01-01   19:00:00\n",
      "28558    28559  2006-01-01   12:30:00\n",
      "28559    28560  2006-01-01   03:30:00\n",
      "28560    28561  2006-01-01   02:34:00\n",
      "28561    28562  2006-01-01   02:34:00\n",
      "\n",
      "[28562 rows x 3 columns]\n"
     ]
    }
   ],
   "source": [
    "print(dim_date)"
   ]
  },
  {
   "cell_type": "code",
   "execution_count": 97,
   "id": "a7452eef",
   "metadata": {},
   "outputs": [],
   "source": [
    "import datetime\n",
    "from datetime import datetime "
   ]
  },
  {
   "cell_type": "code",
   "execution_count": 104,
   "id": "04416b60",
   "metadata": {},
   "outputs": [
    {
     "name": "stdout",
     "output_type": "stream",
     "text": [
      "       date_id occur_date occur_time  year  quarter  month  day  week  \\\n",
      "0            1 2023-12-29   21:22:00  2023        4     12   29    52   \n",
      "1            2 2023-12-29   18:40:00  2023        4     12   29    52   \n",
      "2            3 2023-12-29   03:43:00  2023        4     12   29    52   \n",
      "3            4 2023-12-27   19:47:00  2023        4     12   27    52   \n",
      "4            5 2023-12-26   23:43:00  2023        4     12   26    52   \n",
      "...        ...        ...        ...   ...      ...    ...  ...   ...   \n",
      "28557    28558 2006-01-01   19:00:00  2006        1      1    1    52   \n",
      "28558    28559 2006-01-01   12:30:00  2006        1      1    1    52   \n",
      "28559    28560 2006-01-01   03:30:00  2006        1      1    1    52   \n",
      "28560    28561 2006-01-01   02:34:00  2006        1      1    1    52   \n",
      "28561    28562 2006-01-01   02:34:00  2006        1      1    1    52   \n",
      "\n",
      "         weekday  year_num  quarter_num  month_num  day_num  week_num  \\\n",
      "0         Friday      2023            4         12       29        52   \n",
      "1         Friday      2023            4         12       29        52   \n",
      "2         Friday      2023            4         12       29        52   \n",
      "3      Wednesday      2023            4         12       27        52   \n",
      "4        Tuesday      2023            4         12       26        52   \n",
      "...          ...       ...          ...        ...      ...       ...   \n",
      "28557     Sunday      2006            1          1        1        52   \n",
      "28558     Sunday      2006            1          1        1        52   \n",
      "28559     Sunday      2006            1          1        1        52   \n",
      "28560     Sunday      2006            1          1        1        52   \n",
      "28561     Sunday      2006            1          1        1        52   \n",
      "\n",
      "        day_week  \n",
      "0         Friday  \n",
      "1         Friday  \n",
      "2         Friday  \n",
      "3      Wednesday  \n",
      "4        Tuesday  \n",
      "...          ...  \n",
      "28557     Sunday  \n",
      "28558     Sunday  \n",
      "28559     Sunday  \n",
      "28560     Sunday  \n",
      "28561     Sunday  \n",
      "\n",
      "[28562 rows x 15 columns]\n"
     ]
    }
   ],
   "source": [
    "print(dim_date)"
   ]
  },
  {
   "cell_type": "code",
   "execution_count": 105,
   "id": "c1fea330",
   "metadata": {},
   "outputs": [
    {
     "name": "stdout",
     "output_type": "stream",
     "text": [
      "   date_id occur_date occur_time  year  quarter  month  day  week    weekday  \\\n",
      "0        1 2023-12-29   21:22:00  2023        4     12   29    52     Friday   \n",
      "1        2 2023-12-29   18:40:00  2023        4     12   29    52     Friday   \n",
      "2        3 2023-12-29   03:43:00  2023        4     12   29    52     Friday   \n",
      "3        4 2023-12-27   19:47:00  2023        4     12   27    52  Wednesday   \n",
      "4        5 2023-12-26   23:43:00  2023        4     12   26    52    Tuesday   \n",
      "\n",
      "   year_num  quarter_num  month_num  day_num  week_num   day_week  \n",
      "0      2023            4         12       29        52     Friday  \n",
      "1      2023            4         12       29        52     Friday  \n",
      "2      2023            4         12       29        52     Friday  \n",
      "3      2023            4         12       27        52  Wednesday  \n",
      "4      2023            4         12       26        52    Tuesday  \n"
     ]
    }
   ],
   "source": [
    "# Assuming 'dim_date' is your DataFrame and 'occur_date' is in a string format that needs conversion\n",
    "try:\n",
    "    # Convert 'occur_date' to datetime format, handling errors\n",
    "    dim_date['occur_date'] = pd.to_datetime(dim_date['occur_date'], errors='coerce')\n",
    "except Exception as e:\n",
    "    print(f\"Error converting to datetime: {e}\")\n",
    "\n",
    "# Check if the conversion was successful by checking for non-null datetime objects\n",
    "if dim_date['occur_date'].isnull().any():\n",
    "    print(\"Warning: Some 'occur_date' entries could not be converted and are set as NaT.\")\n",
    "\n",
    "# Split 'occur_date' into separate columns for year, quarter, month, and day\n",
    "dim_date['year_num'] = dim_date['occur_date'].dt.year\n",
    "dim_date['quarter_num'] = dim_date['occur_date'].dt.quarter\n",
    "dim_date['month_num'] = dim_date['occur_date'].dt.month\n",
    "dim_date['day_num'] = dim_date['occur_date'].dt.day\n",
    "\n",
    "# Optionally, add a week and weekday name for more detailed analysis\n",
    "dim_date['week_num'] = dim_date['occur_date'].dt.isocalendar().week\n",
    "dim_date['day_week'] = dim_date['occur_date'].dt.strftime('%A')\n",
    "\n",
    "# Display the updated DataFrame to verify new columns\n",
    "print(dim_date.head())"
   ]
  },
  {
   "cell_type": "code",
   "execution_count": 106,
   "id": "c3740cb5",
   "metadata": {},
   "outputs": [
    {
     "name": "stdout",
     "output_type": "stream",
     "text": [
      "       date_id occur_date occur_time  year  quarter  month  day  week  \\\n",
      "0            1 2023-12-29   21:22:00  2023        4     12   29    52   \n",
      "1            2 2023-12-29   18:40:00  2023        4     12   29    52   \n",
      "2            3 2023-12-29   03:43:00  2023        4     12   29    52   \n",
      "3            4 2023-12-27   19:47:00  2023        4     12   27    52   \n",
      "4            5 2023-12-26   23:43:00  2023        4     12   26    52   \n",
      "...        ...        ...        ...   ...      ...    ...  ...   ...   \n",
      "28557    28558 2006-01-01   19:00:00  2006        1      1    1    52   \n",
      "28558    28559 2006-01-01   12:30:00  2006        1      1    1    52   \n",
      "28559    28560 2006-01-01   03:30:00  2006        1      1    1    52   \n",
      "28560    28561 2006-01-01   02:34:00  2006        1      1    1    52   \n",
      "28561    28562 2006-01-01   02:34:00  2006        1      1    1    52   \n",
      "\n",
      "         weekday  year_num  quarter_num  month_num  day_num  week_num  \\\n",
      "0         Friday      2023            4         12       29        52   \n",
      "1         Friday      2023            4         12       29        52   \n",
      "2         Friday      2023            4         12       29        52   \n",
      "3      Wednesday      2023            4         12       27        52   \n",
      "4        Tuesday      2023            4         12       26        52   \n",
      "...          ...       ...          ...        ...      ...       ...   \n",
      "28557     Sunday      2006            1          1        1        52   \n",
      "28558     Sunday      2006            1          1        1        52   \n",
      "28559     Sunday      2006            1          1        1        52   \n",
      "28560     Sunday      2006            1          1        1        52   \n",
      "28561     Sunday      2006            1          1        1        52   \n",
      "\n",
      "        day_week  \n",
      "0         Friday  \n",
      "1         Friday  \n",
      "2         Friday  \n",
      "3      Wednesday  \n",
      "4        Tuesday  \n",
      "...          ...  \n",
      "28557     Sunday  \n",
      "28558     Sunday  \n",
      "28559     Sunday  \n",
      "28560     Sunday  \n",
      "28561     Sunday  \n",
      "\n",
      "[28562 rows x 15 columns]\n"
     ]
    }
   ],
   "source": [
    "print(dim_date)"
   ]
  },
  {
   "cell_type": "code",
   "execution_count": 107,
   "id": "34b1df47",
   "metadata": {},
   "outputs": [
    {
     "name": "stdout",
     "output_type": "stream",
     "text": [
      "   date_id occur_date occur_time  year_num  quarter_num  month_num  day_num  \\\n",
      "0        1 2023-12-29   21:22:00      2023            4         12       29   \n",
      "1        2 2023-12-29   18:40:00      2023            4         12       29   \n",
      "2        3 2023-12-29   03:43:00      2023            4         12       29   \n",
      "3        4 2023-12-27   19:47:00      2023            4         12       27   \n",
      "4        5 2023-12-26   23:43:00      2023            4         12       26   \n",
      "\n",
      "   week_num   day_week  \n",
      "0        52     Friday  \n",
      "1        52     Friday  \n",
      "2        52     Friday  \n",
      "3        52  Wednesday  \n",
      "4        52    Tuesday  \n"
     ]
    }
   ],
   "source": [
    "# List of columns to be removed\n",
    "columns_to_remove = ['year', 'quarter', 'month', 'day', 'week', 'weekday']\n",
    "\n",
    "# Drop the specified columns\n",
    "dim_date = dim_date.drop(columns=columns_to_remove)\n",
    "\n",
    "# Display the updated DataFrame to verify that columns have been removed\n",
    "print(dim_date.head())"
   ]
  },
  {
   "cell_type": "code",
   "execution_count": 108,
   "id": "cb5397bc",
   "metadata": {},
   "outputs": [
    {
     "name": "stdout",
     "output_type": "stream",
     "text": [
      "0    21:22\n",
      "1    18:40\n",
      "2    03:43\n",
      "3    19:47\n",
      "4    23:43\n",
      "Name: occur_time, dtype: string\n"
     ]
    }
   ],
   "source": [
    "# Slice the string to keep only \"HH:MM\"\n",
    "dim_date['occur_time'] = dim_date['occur_time'].str.slice(0, 5)\n",
    "\n",
    "# Display the updated DataFrame to verify changes\n",
    "print(dim_date['occur_time'].head())"
   ]
  },
  {
   "cell_type": "code",
   "execution_count": 109,
   "id": "5f7f4b93",
   "metadata": {},
   "outputs": [
    {
     "name": "stdout",
     "output_type": "stream",
     "text": [
      "       date_id occur_date occur_time  year_num  quarter_num  month_num  \\\n",
      "0            1 2023-12-29      21:22      2023            4         12   \n",
      "1            2 2023-12-29      18:40      2023            4         12   \n",
      "2            3 2023-12-29      03:43      2023            4         12   \n",
      "3            4 2023-12-27      19:47      2023            4         12   \n",
      "4            5 2023-12-26      23:43      2023            4         12   \n",
      "...        ...        ...        ...       ...          ...        ...   \n",
      "28557    28558 2006-01-01      19:00      2006            1          1   \n",
      "28558    28559 2006-01-01      12:30      2006            1          1   \n",
      "28559    28560 2006-01-01      03:30      2006            1          1   \n",
      "28560    28561 2006-01-01      02:34      2006            1          1   \n",
      "28561    28562 2006-01-01      02:34      2006            1          1   \n",
      "\n",
      "       day_num  week_num   day_week  \n",
      "0           29        52     Friday  \n",
      "1           29        52     Friday  \n",
      "2           29        52     Friday  \n",
      "3           27        52  Wednesday  \n",
      "4           26        52    Tuesday  \n",
      "...        ...       ...        ...  \n",
      "28557        1        52     Sunday  \n",
      "28558        1        52     Sunday  \n",
      "28559        1        52     Sunday  \n",
      "28560        1        52     Sunday  \n",
      "28561        1        52     Sunday  \n",
      "\n",
      "[28562 rows x 9 columns]\n"
     ]
    }
   ],
   "source": [
    "print(dim_date)"
   ]
  },
  {
   "cell_type": "code",
   "execution_count": 111,
   "id": "cae1a455",
   "metadata": {},
   "outputs": [
    {
     "name": "stdout",
     "output_type": "stream",
     "text": [
      "Index(['incident_key', 'occur_date', 'occur_time', 'boro', 'precinct',\n",
      "       'jurisdiction_code', 'location_desc', 'perp_age_group', 'perp_sex',\n",
      "       'perp_race', 'vic_age_group', 'vic_sex', 'vic_race'],\n",
      "      dtype='object')\n"
     ]
    }
   ],
   "source": [
    "print(nypd_shooting_df.columns)"
   ]
  },
  {
   "cell_type": "code",
   "execution_count": 112,
   "id": "08aa86c9",
   "metadata": {},
   "outputs": [
    {
     "name": "stdout",
     "output_type": "stream",
     "text": [
      "     fact_id               occur_date occur_time      boro  precinct  \\\n",
      "0  279709792  2023-12-29T00:00:00.000   21:22:00  BROOKLYN        75   \n",
      "1  279758069  2023-12-29T00:00:00.000   18:40:00     BRONX        40   \n",
      "2  279683077  2023-12-29T00:00:00.000   03:43:00    QUEENS       113   \n",
      "3  279609499  2023-12-27T00:00:00.000   19:47:00     BRONX        42   \n",
      "4  279547333  2023-12-26T00:00:00.000   23:43:00    QUEENS       106   \n",
      "\n",
      "  jurisdiction_code     location_desc perp_age_group perp_sex perp_race  \\\n",
      "0               0.0                            25-44        M     BLACK   \n",
      "1               0.0                                                       \n",
      "2               0.0  RESTAURANT/DINER                                     \n",
      "3               0.0                                                       \n",
      "4               0.0                                                       \n",
      "\n",
      "  vic_age_group vic_sex        vic_race  \n",
      "0         25-44       M           BLACK  \n",
      "1           65+       M  BLACK HISPANIC  \n",
      "2         25-44       M           BLACK  \n",
      "3           <18       M  BLACK HISPANIC  \n",
      "4         25-44       F  BLACK HISPANIC  \n"
     ]
    }
   ],
   "source": [
    "# Rename the column 'incident_key' to 'fact_id'\n",
    "nypd_shooting_df = nypd_shooting_df.rename(columns={'incident_key': 'fact_id'})\n",
    "\n",
    "# Display the updated DataFrame to verify that the column name has been changed\n",
    "print(nypd_shooting_df.head())"
   ]
  },
  {
   "cell_type": "code",
   "execution_count": 113,
   "id": "6e044db6",
   "metadata": {},
   "outputs": [],
   "source": [
    "nypd_shooting_df['occur_date'] = pd.to_datetime(nypd_shooting_df['occur_date'])"
   ]
  },
  {
   "cell_type": "code",
   "execution_count": 114,
   "id": "690960d9",
   "metadata": {},
   "outputs": [
    {
     "name": "stdout",
     "output_type": "stream",
     "text": [
      "     fact_id occur_date occur_time      boro  precinct jurisdiction_code  \\\n",
      "0  279709792 2023-12-29   21:22:00  BROOKLYN        75               0.0   \n",
      "1  279758069 2023-12-29   18:40:00     BRONX        40               0.0   \n",
      "2  279683077 2023-12-29   03:43:00    QUEENS       113               0.0   \n",
      "3  279609499 2023-12-27   19:47:00     BRONX        42               0.0   \n",
      "4  279547333 2023-12-26   23:43:00    QUEENS       106               0.0   \n",
      "\n",
      "      location_desc perp_age_group perp_sex perp_race vic_age_group vic_sex  \\\n",
      "0                            25-44        M     BLACK         25-44       M   \n",
      "1                                                               65+       M   \n",
      "2  RESTAURANT/DINER                                           25-44       M   \n",
      "3                                                               <18       M   \n",
      "4                                                             25-44       F   \n",
      "\n",
      "         vic_race  \n",
      "0           BLACK  \n",
      "1  BLACK HISPANIC  \n",
      "2           BLACK  \n",
      "3  BLACK HISPANIC  \n",
      "4  BLACK HISPANIC  \n"
     ]
    }
   ],
   "source": [
    "print(nypd_shooting_df.head())"
   ]
  },
  {
   "cell_type": "code",
   "execution_count": 115,
   "id": "037d054e",
   "metadata": {},
   "outputs": [],
   "source": [
    "nypd_shooting_df['occur_time'] = nypd_shooting_df['occur_time'].str.slice(0, 5)"
   ]
  },
  {
   "cell_type": "code",
   "execution_count": 116,
   "id": "7a71ca2d",
   "metadata": {},
   "outputs": [
    {
     "name": "stdout",
     "output_type": "stream",
     "text": [
      "     fact_id occur_date occur_time      boro  precinct jurisdiction_code  \\\n",
      "0  279709792 2023-12-29      21:22  BROOKLYN        75               0.0   \n",
      "1  279758069 2023-12-29      18:40     BRONX        40               0.0   \n",
      "2  279683077 2023-12-29      03:43    QUEENS       113               0.0   \n",
      "3  279609499 2023-12-27      19:47     BRONX        42               0.0   \n",
      "4  279547333 2023-12-26      23:43    QUEENS       106               0.0   \n",
      "\n",
      "      location_desc perp_age_group perp_sex perp_race vic_age_group vic_sex  \\\n",
      "0                            25-44        M     BLACK         25-44       M   \n",
      "1                                                               65+       M   \n",
      "2  RESTAURANT/DINER                                           25-44       M   \n",
      "3                                                               <18       M   \n",
      "4                                                             25-44       F   \n",
      "\n",
      "         vic_race  \n",
      "0           BLACK  \n",
      "1  BLACK HISPANIC  \n",
      "2           BLACK  \n",
      "3  BLACK HISPANIC  \n",
      "4  BLACK HISPANIC  \n"
     ]
    }
   ],
   "source": [
    "print(nypd_shooting_df.head())"
   ]
  },
  {
   "cell_type": "code",
   "execution_count": 117,
   "id": "f987093d",
   "metadata": {},
   "outputs": [],
   "source": [
    "nypd_shooting_df['date_id'] = pd.NA\n",
    "nypd_shooting_df['location_id'] = pd.NA\n",
    "nypd_shooting_df['perp_id'] = pd.NA\n",
    "nypd_shooting_df['vic_id'] = pd.NA\n"
   ]
  },
  {
   "cell_type": "code",
   "execution_count": 126,
   "id": "d68c856e",
   "metadata": {},
   "outputs": [
    {
     "name": "stdout",
     "output_type": "stream",
     "text": [
      "     fact_id occur_date_x occur_time_x      boro  precinct jurisdiction_code  \\\n",
      "0  279709792   2023-12-29        21:22  BROOKLYN        75               0.0   \n",
      "1  279758069   2023-12-29        18:40     BRONX        40               0.0   \n",
      "2  279683077   2023-12-29        03:43    QUEENS       113               0.0   \n",
      "3  279609499   2023-12-27        19:47     BRONX        42               0.0   \n",
      "4  279547333   2023-12-26        23:43    QUEENS       106               0.0   \n",
      "\n",
      "      location_desc perp_age_group perp_sex perp_race vic_age_group vic_sex  \\\n",
      "0                            25-44        M     BLACK         25-44       M   \n",
      "1                                                               65+       M   \n",
      "2  RESTAURANT/DINER                                           25-44       M   \n",
      "3                                                               <18       M   \n",
      "4                                                             25-44       F   \n",
      "\n",
      "         vic_race  date_id location_id perp_id vic_id  \n",
      "0           BLACK      NaN        <NA>    <NA>   <NA>  \n",
      "1  BLACK HISPANIC      NaN        <NA>    <NA>   <NA>  \n",
      "2           BLACK      NaN        <NA>    <NA>   <NA>  \n",
      "3  BLACK HISPANIC      NaN        <NA>    <NA>   <NA>  \n",
      "4  BLACK HISPANIC      NaN        <NA>    <NA>   <NA>  \n"
     ]
    }
   ],
   "source": [
    "# Get the index of 'vic_id' and all columns after it\n",
    "col_index = nypd_shooting_df.columns.get_loc('vic_id') + 1  # +1 to start removing from the next column\n",
    "\n",
    "# List of columns to drop\n",
    "cols_to_drop = nypd_shooting_df.columns[col_index:]\n",
    "\n",
    "# Drop the columns from the DataFrame\n",
    "nypd_shooting_df.drop(columns=cols_to_drop, inplace=True)\n",
    "\n",
    "# Display the DataFrame to verify the remaining columns\n",
    "print(nypd_shooting_df.head())"
   ]
  },
  {
   "cell_type": "code",
   "execution_count": 132,
   "id": "b0c25d07",
   "metadata": {},
   "outputs": [
    {
     "name": "stdout",
     "output_type": "stream",
     "text": [
      "Index(['fact_id', 'occur_date_x', 'occur_time_x', 'boro', 'precinct',\n",
      "       'jurisdiction_code', 'location_desc', 'perp_age_group', 'perp_sex',\n",
      "       'perp_race', 'vic_age_group', 'vic_sex', 'vic_race', 'date_id',\n",
      "       'location_id', 'perp_id', 'vic_id'],\n",
      "      dtype='object')\n"
     ]
    }
   ],
   "source": [
    "print(nypd_shooting_df.columns)"
   ]
  },
  {
   "cell_type": "code",
   "execution_count": 133,
   "id": "47887362",
   "metadata": {},
   "outputs": [
    {
     "name": "stdout",
     "output_type": "stream",
     "text": [
      "Index(['date_id', 'occur_date', 'occur_time', 'year_num', 'quarter_num',\n",
      "       'month_num', 'day_num', 'week_num', 'day_week'],\n",
      "      dtype='object')\n"
     ]
    }
   ],
   "source": [
    "print(dim_date.columns)"
   ]
  },
  {
   "cell_type": "code",
   "execution_count": 138,
   "id": "714c1d78",
   "metadata": {},
   "outputs": [
    {
     "name": "stdout",
     "output_type": "stream",
     "text": [
      "     fact_id occur_date_x occur_time_x      boro  precinct jurisdiction_code  \\\n",
      "0  279709792   2023-12-29        21:22  BROOKLYN        75               0.0   \n",
      "1  279758069   2023-12-29        18:40     BRONX        40               0.0   \n",
      "2  279683077   2023-12-29        03:43    QUEENS       113               0.0   \n",
      "3  279609499   2023-12-27        19:47     BRONX        42               0.0   \n",
      "4  279547333   2023-12-26        23:43    QUEENS       106               0.0   \n",
      "\n",
      "      location_desc perp_age_group perp_sex perp_race vic_age_group vic_sex  \\\n",
      "0                            25-44        M     BLACK         25-44       M   \n",
      "1                                                               65+       M   \n",
      "2  RESTAURANT/DINER                                           25-44       M   \n",
      "3                                                               <18       M   \n",
      "4                                                             25-44       F   \n",
      "\n",
      "         vic_race  date_id location_id perp_id vic_id  \n",
      "0           BLACK      NaN        <NA>    <NA>   <NA>  \n",
      "1  BLACK HISPANIC      NaN        <NA>    <NA>   <NA>  \n",
      "2           BLACK      NaN        <NA>    <NA>   <NA>  \n",
      "3  BLACK HISPANIC      NaN        <NA>    <NA>   <NA>  \n",
      "4  BLACK HISPANIC      NaN        <NA>    <NA>   <NA>  \n"
     ]
    }
   ],
   "source": [
    "print(nypd_shooting_df.head())"
   ]
  },
  {
   "cell_type": "code",
   "execution_count": null,
   "id": "9934d077",
   "metadata": {},
   "outputs": [],
   "source": []
  }
 ],
 "metadata": {
  "kernelspec": {
   "display_name": "Python 3 (ipykernel)",
   "language": "python",
   "name": "python3"
  },
  "language_info": {
   "codemirror_mode": {
    "name": "ipython",
    "version": 3
   },
   "file_extension": ".py",
   "mimetype": "text/x-python",
   "name": "python",
   "nbconvert_exporter": "python",
   "pygments_lexer": "ipython3",
   "version": "3.11.5"
  }
 },
 "nbformat": 4,
 "nbformat_minor": 5
}
