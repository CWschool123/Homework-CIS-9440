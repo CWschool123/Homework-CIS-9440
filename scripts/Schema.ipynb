{
 "cells": [
  {
   "cell_type": "code",
   "execution_count": null,
   "id": "a94fffce",
   "metadata": {},
   "outputs": [],
   "source": [
    "CREATE SCHEMA IF NOT EXISTS \"nypdshooting\";\n",
    "\n",
    "CREATE  TABLE \"nypdshooting\".dim_date ( \n",
    "\tdate_id BIGINT  NOT NULL  ,\n",
    "\toccur_date  VARCHAR(255)    ,\n",
    "\toccur_time  VARCHAR(255)    ,\n",
    "\tyear_num  VARCHAR(255)    ,\n",
    "\tquarter_num  VARCHAR(255)    ,\n",
    "\tmonth_num  VARCHAR(255)    ,\n",
    "\tday_num  VARCHAR(255)    ,\n",
    "\tweek_num  VARCHAR(255)    ,\n",
    "\tday_week  VARCHAR(255)    ,\n",
    "\tCONSTRAINT pk_dim_date  PRIMARY KEY ( date_id )\n",
    " );\n",
    "\n",
    "CREATE  TABLE \"nypdshooting\".dim_perpetrator ( \n",
    "\tperp_id              BIGINT  NOT NULL  ,\n",
    "\tperp_age_group     VARCHAR(255)    ,\n",
    "\tperp_sex          VARCHAR(255)    ,\n",
    "\tperp_race       VARCHAR(255)    ,\n",
    "\tCONSTRAINT pk_dim_perpetrator PRIMARY KEY ( perp_id)\n",
    " );\n",
    "\n",
    "CREATE  TABLE \"nypdshooting\".dim_location ( \n",
    "\tlocation_id          BIGINT  NOT NULL  ,\n",
    "\tboro              VARCHAR(255)    ,\n",
    "\tprecint             INT    ,\n",
    "\tjurisdiction_code            INT    ,\n",
    "\tlocation_desc             INT    ,\n",
    "\tCONSTRAINT pk_dim_location PRIMARY KEY ( location_id )\n",
    " );\n",
    "\n",
    "CREATE  TABLE \"nypdshooting\".dim_victim ( \n",
    "\tvic_id              BIGINT  NOT NULL  ,\n",
    "\tvic_age_group     VARCHAR(255)    ,\n",
    "\tvic_sex          VARCHAR(255)    ,\n",
    "\tvic_race       VARCHAR(255)    ,\n",
    "\tCONSTRAINT pk_dim_victim PRIMARY KEY ( vic_id)\n",
    " );\n",
    "\n",
    "CREATE  TABLE \"nypdshooting\".facts_nypdshooting ( \n",
    "\tincident_id             BIGINT  NOT NULL  ,\n",
    "\tlocation_id          INT    ,\n",
    "\tperp_id              INT    ,\n",
    "\tvic_id           INT    ,\n",
    "\tdate_id INT    ,\n",
    "\tCONSTRAINT pk_facts_nypdshooting PRIMARY KEY ( incident_id )\n",
    " );"
   ]
  }
 ],
 "metadata": {
  "kernelspec": {
   "display_name": "Python 3 (ipykernel)",
   "language": "python",
   "name": "python3"
  },
  "language_info": {
   "codemirror_mode": {
    "name": "ipython",
    "version": 3
   },
   "file_extension": ".py",
   "mimetype": "text/x-python",
   "name": "python",
   "nbconvert_exporter": "python",
   "pygments_lexer": "ipython3",
   "version": "3.11.5"
  }
 },
 "nbformat": 4,
 "nbformat_minor": 5
}
