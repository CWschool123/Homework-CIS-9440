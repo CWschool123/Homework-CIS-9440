{
 "cells": [
  {
   "cell_type": "code",
   "execution_count": 1,
   "id": "62b95a0b",
   "metadata": {},
   "outputs": [
    {
     "name": "stdout",
     "output_type": "stream",
     "text": [
      "Requirement already satisfied: requests in c:\\users\\mario\\anaconda3\\lib\\site-packages (2.31.0)\n",
      "Requirement already satisfied: charset-normalizer<4,>=2 in c:\\users\\mario\\anaconda3\\lib\\site-packages (from requests) (2.0.4)\n",
      "Requirement already satisfied: idna<4,>=2.5 in c:\\users\\mario\\anaconda3\\lib\\site-packages (from requests) (3.4)\n",
      "Requirement already satisfied: urllib3<3,>=1.21.1 in c:\\users\\mario\\anaconda3\\lib\\site-packages (from requests) (1.26.16)\n",
      "Requirement already satisfied: certifi>=2017.4.17 in c:\\users\\mario\\anaconda3\\lib\\site-packages (from requests) (2023.7.22)\n",
      "Note: you may need to restart the kernel to use updated packages.\n"
     ]
    }
   ],
   "source": [
    "pip install requests"
   ]
  },
  {
   "cell_type": "code",
   "execution_count": 2,
   "id": "97ae7053",
   "metadata": {},
   "outputs": [
    {
     "name": "stdout",
     "output_type": "stream",
     "text": [
      "Requirement already satisfied: azure-storage-blob in c:\\users\\mario\\anaconda3\\lib\\site-packages (12.20.0)\n",
      "Requirement already satisfied: azure-core>=1.28.0 in c:\\users\\mario\\anaconda3\\lib\\site-packages (from azure-storage-blob) (1.30.1)\n",
      "Requirement already satisfied: cryptography>=2.1.4 in c:\\users\\mario\\anaconda3\\lib\\site-packages (from azure-storage-blob) (41.0.3)\n",
      "Requirement already satisfied: typing-extensions>=4.6.0 in c:\\users\\mario\\anaconda3\\lib\\site-packages (from azure-storage-blob) (4.7.1)\n",
      "Requirement already satisfied: isodate>=0.6.1 in c:\\users\\mario\\anaconda3\\lib\\site-packages (from azure-storage-blob) (0.6.1)\n",
      "Requirement already satisfied: requests>=2.21.0 in c:\\users\\mario\\anaconda3\\lib\\site-packages (from azure-core>=1.28.0->azure-storage-blob) (2.31.0)\n",
      "Requirement already satisfied: six>=1.11.0 in c:\\users\\mario\\anaconda3\\lib\\site-packages (from azure-core>=1.28.0->azure-storage-blob) (1.16.0)\n",
      "Requirement already satisfied: cffi>=1.12 in c:\\users\\mario\\anaconda3\\lib\\site-packages (from cryptography>=2.1.4->azure-storage-blob) (1.15.1)\n",
      "Requirement already satisfied: pycparser in c:\\users\\mario\\anaconda3\\lib\\site-packages (from cffi>=1.12->cryptography>=2.1.4->azure-storage-blob) (2.21)\n",
      "Requirement already satisfied: charset-normalizer<4,>=2 in c:\\users\\mario\\anaconda3\\lib\\site-packages (from requests>=2.21.0->azure-core>=1.28.0->azure-storage-blob) (2.0.4)\n",
      "Requirement already satisfied: idna<4,>=2.5 in c:\\users\\mario\\anaconda3\\lib\\site-packages (from requests>=2.21.0->azure-core>=1.28.0->azure-storage-blob) (3.4)\n",
      "Requirement already satisfied: urllib3<3,>=1.21.1 in c:\\users\\mario\\anaconda3\\lib\\site-packages (from requests>=2.21.0->azure-core>=1.28.0->azure-storage-blob) (1.26.16)\n",
      "Requirement already satisfied: certifi>=2017.4.17 in c:\\users\\mario\\anaconda3\\lib\\site-packages (from requests>=2.21.0->azure-core>=1.28.0->azure-storage-blob) (2023.7.22)\n",
      "Note: you may need to restart the kernel to use updated packages.\n"
     ]
    }
   ],
   "source": [
    "pip install azure-storage-blob"
   ]
  },
  {
   "cell_type": "code",
   "execution_count": 3,
   "id": "4df85d1c",
   "metadata": {},
   "outputs": [
    {
     "name": "stdout",
     "output_type": "stream",
     "text": [
      "Data uploaded to blob storage as nypd_shooting.csv\n"
     ]
    }
   ],
   "source": [
    "import os\n",
    "import json\n",
    "import requests\n",
    "import pandas as pd\n",
    "from azure.storage.blob import BlobServiceClient\n",
    "\n",
    "def fetch_data(url, offset=0, limit=2000):\n",
    "    \"\"\"Fetch data from the specified URL of a Web API with pagination.\"\"\"\n",
    "    try:\n",
    "        params = {'$offset': offset, '$limit': limit}\n",
    "        response = requests.get(url, params=params)\n",
    "        response.raise_for_status()\n",
    "        return response.json()\n",
    "    except requests.RequestException as e:\n",
    "        print(f\"An error occurred: {e}\")\n",
    "        return None\n",
    "\n",
    "def save_data_to_blob(data, filename, connection_string, container_name):\n",
    "    \"\"\"Converts a list of dictionaries to a Pandas DataFrame and uploads it as a CSV to Azure Blob Storage.\"\"\"\n",
    "    try:\n",
    "        df = pd.DataFrame(data)\n",
    "        blob_service_client = BlobServiceClient.from_connection_string(connection_string)\n",
    "        blob_client = blob_service_client.get_blob_client(container=container_name, blob=filename)\n",
    "        \n",
    "        # Convert DataFrame to CSV and upload\n",
    "        csv_data = df.to_csv(index=False)\n",
    "        blob_client.upload_blob(csv_data, blob_type=\"BlockBlob\", overwrite=True)\n",
    "        print(f\"Data uploaded to blob storage as {filename}\")\n",
    "    except Exception as e:\n",
    "        print(f\"Failed to upload data to blob: {e}\")\n",
    "\n",
    "def main():\n",
    "    # Load configuration from JSON file\n",
    "    with open('config.json', 'r') as file:\n",
    "        config = json.load(file)\n",
    "\n",
    "    api_url = config['api']['url']\n",
    "    limit = config['api']['pagination_limit']\n",
    "    connection_string = config['azure_storage']['connection_string']\n",
    "    container_name = config['azure_storage']['container_name']\n",
    "    blob_name = config['azure_storage']['blob_name']\n",
    "    \n",
    "    total_data = []\n",
    "    offset = 0\n",
    "    while True:\n",
    "        data = fetch_data(api_url, offset, limit)\n",
    "        if data:\n",
    "            total_data.extend(data)\n",
    "            offset += limit\n",
    "        else:\n",
    "            break\n",
    "            \n",
    "    if total_data:\n",
    "        # Save all data to Azure Blob Storage\n",
    "        save_data_to_blob(total_data, blob_name, connection_string, container_name)\n",
    "\n",
    "if __name__ == \"__main__\":\n",
    "    main()\n"
   ]
  },
  {
   "cell_type": "code",
   "execution_count": null,
   "id": "683436d5",
   "metadata": {},
   "outputs": [],
   "source": []
  }
 ],
 "metadata": {
  "kernelspec": {
   "display_name": "Python 3 (ipykernel)",
   "language": "python",
   "name": "python3"
  },
  "language_info": {
   "codemirror_mode": {
    "name": "ipython",
    "version": 3
   },
   "file_extension": ".py",
   "mimetype": "text/x-python",
   "name": "python",
   "nbconvert_exporter": "python",
   "pygments_lexer": "ipython3",
   "version": "3.11.5"
  }
 },
 "nbformat": 4,
 "nbformat_minor": 5
}
