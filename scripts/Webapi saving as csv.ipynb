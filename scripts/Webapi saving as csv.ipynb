{
 "cells": [
  {
   "cell_type": "code",
   "execution_count": 1,
   "id": "79beff5d",
   "metadata": {},
   "outputs": [
    {
     "name": "stdout",
     "output_type": "stream",
     "text": [
      "Requirement already satisfied: requests in c:\\users\\mario\\anaconda3\\lib\\site-packages (2.31.0)\n",
      "Requirement already satisfied: charset-normalizer<4,>=2 in c:\\users\\mario\\anaconda3\\lib\\site-packages (from requests) (2.0.4)\n",
      "Requirement already satisfied: idna<4,>=2.5 in c:\\users\\mario\\anaconda3\\lib\\site-packages (from requests) (3.4)\n",
      "Requirement already satisfied: urllib3<3,>=1.21.1 in c:\\users\\mario\\anaconda3\\lib\\site-packages (from requests) (1.26.16)\n",
      "Requirement already satisfied: certifi>=2017.4.17 in c:\\users\\mario\\anaconda3\\lib\\site-packages (from requests) (2023.7.22)\n",
      "Note: you may need to restart the kernel to use updated packages.\n"
     ]
    }
   ],
   "source": [
    "pip install requests"
   ]
  },
  {
   "cell_type": "code",
   "execution_count": 3,
   "id": "1c9187b6",
   "metadata": {},
   "outputs": [
    {
     "name": "stdout",
     "output_type": "stream",
     "text": [
      "Data saved to nypd_shooting.csv\n"
     ]
    }
   ],
   "source": [
    "import requests\n",
    "import pandas as pd\n",
    "import json\n",
    "\n",
    "def fetch_data(url, offset=0, limit=2000):\n",
    "    \"\"\"\n",
    "    Fetch data from the specified URL of a Web API with pagination.\n",
    "    Handles basic error checking and prints the status of the request.\n",
    "    \"\"\"\n",
    "    try:\n",
    "        params = {'$offset': offset, '$limit': limit}\n",
    "        response = requests.get(url, params=params)\n",
    "        response.raise_for_status()  # Raises an HTTPError for bad requests (4XX or 5XX)\n",
    "        return response.json()  # Converts the JSON response to a Python dictionary\n",
    "    except requests.RequestException as e:\n",
    "        print(f\"An error occurred: {e}\")\n",
    "        return None\n",
    "\n",
    "def save_data_to_csv(data, filename):\n",
    "    \"\"\"\n",
    "    Converts a list of dictionaries (JSON data) to a Pandas DataFrame and saves it as a CSV file.\n",
    "    \"\"\"\n",
    "    try:\n",
    "        df = pd.DataFrame(data)\n",
    "        df.to_csv(filename, index=False)\n",
    "        print(f\"Data saved to {filename}\")\n",
    "    except Exception as e:\n",
    "        print(f\"Failed to save data to CSV: {e}\")\n",
    "\n",
    "def main():\n",
    "    # Load configuration from JSON file\n",
    "    with open('config.json', 'r') as file:\n",
    "        config = json.load(file)\n",
    "    \n",
    "    api_url = config[\"api_url\"]\n",
    "    filename = config[\"filename\"]\n",
    "    offset = config[\"pagination\"][\"offset\"]\n",
    "    limit = config[\"pagination\"][\"limit\"]\n",
    "\n",
    "    total_data = []\n",
    "    # Example of handling pagination\n",
    "    while True:\n",
    "        data = fetch_data(api_url, offset, limit)\n",
    "        if data:\n",
    "            total_data.extend(data)\n",
    "            offset += limit  # Increment offset for next batch of data\n",
    "        else:\n",
    "            break  # Break if no more data is returned\n",
    "\n",
    "    if total_data:\n",
    "        # Save all data to CSV file\n",
    "        save_data_to_csv(total_data, filename)\n",
    "\n",
    "if __name__ == \"__main__\":\n",
    "    main()\n"
   ]
  },
  {
   "cell_type": "code",
   "execution_count": null,
   "id": "e84e0c28",
   "metadata": {},
   "outputs": [],
   "source": []
  }
 ],
 "metadata": {
  "kernelspec": {
   "display_name": "Python 3 (ipykernel)",
   "language": "python",
   "name": "python3"
  },
  "language_info": {
   "codemirror_mode": {
    "name": "ipython",
    "version": 3
   },
   "file_extension": ".py",
   "mimetype": "text/x-python",
   "name": "python",
   "nbconvert_exporter": "python",
   "pygments_lexer": "ipython3",
   "version": "3.11.5"
  }
 },
 "nbformat": 4,
 "nbformat_minor": 5
}
